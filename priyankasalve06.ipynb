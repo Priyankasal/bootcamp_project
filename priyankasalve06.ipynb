{
  "nbformat": 4,
  "nbformat_minor": 0,
  "metadata": {
    "colab": {
      "name": "priyankasalve06.ipynb",
      "provenance": [],
      "collapsed_sections": []
    },
    "kernelspec": {
      "name": "python3",
      "display_name": "Python 3"
    },
    "language_info": {
      "name": "python"
    }
  },
  "cells": [
    {
      "cell_type": "code",
      "metadata": {
        "id": "OuXJjZIWsKZw"
      },
      "source": [
        "import requests\n"
      ],
      "execution_count": null,
      "outputs": []
    },
    {
      "cell_type": "code",
      "metadata": {
        "id": "eM44Ke6SvzXe"
      },
      "source": [
        "from datetime import datetime"
      ],
      "execution_count": null,
      "outputs": []
    },
    {
      "cell_type": "code",
      "metadata": {
        "colab": {
          "base_uri": "https://localhost:8080/"
        },
        "id": "Xl6QHD0Nv5t-",
        "outputId": "f961b1ae-716e-4dd9-8027-be64c63aecf1"
      },
      "source": [
        "api_key = 'a34d005690be0b94ecebdcd69d09ecd8'\n",
        "location = input (\"Enter the city name: \")"
      ],
      "execution_count": null,
      "outputs": [
        {
          "output_type": "stream",
          "text": [
            "Enter the city name: panvel\n"
          ],
          "name": "stdout"
        }
      ]
    },
    {
      "cell_type": "code",
      "metadata": {
        "id": "7ZuaGJyFwXBN"
      },
      "source": [
        "complete_api_link = \"https://api.openweathermap.org/data/2.5/weather?q=\"+location+\"&appid=\"+api_key\n",
        "api_link = requests.get(complete_api_link)\n",
        "api_data = api_link.json()"
      ],
      "execution_count": null,
      "outputs": []
    },
    {
      "cell_type": "code",
      "metadata": {
        "id": "W3Z0nwbyyXel"
      },
      "source": [
        "temp_city = ((api_data['main']['temp']) - 273.15)\n",
        "weather_desc = api_data['weather'][0]['description']\n",
        "hmdt = api_data['main']['humidity']\n",
        "wind_spd = api_data['wind']['speed']\n",
        "date_time = datetime.now().strftime(\"%d %b %Y | %I:%M:%S %p\")"
      ],
      "execution_count": null,
      "outputs": []
    },
    {
      "cell_type": "code",
      "metadata": {
        "colab": {
          "base_uri": "https://localhost:8080/"
        },
        "id": "VT2oe61N2fGK",
        "outputId": "6b5aab9a-7f2e-4696-974e-d68dc8fdd503"
      },
      "source": [
        "print (\"------------------------------------------------------------------------------------------\")\n",
        "print (\"Weather Stats for - {} || {}\".format(location.upper(), date_time))\n",
        "print (\"-------------------------------------------------------------------------------------\")\n"
      ],
      "execution_count": null,
      "outputs": [
        {
          "output_type": "stream",
          "text": [
            "------------------------------------------------------------------------------------------\n",
            "Weather Stats for - PANVEL || 23 Jun 2021 | 05:23:01 PM\n",
            "-------------------------------------------------------------------------------------\n"
          ],
          "name": "stdout"
        }
      ]
    },
    {
      "cell_type": "code",
      "metadata": {
        "colab": {
          "base_uri": "https://localhost:8080/"
        },
        "id": "GdP9yksp3Swk",
        "outputId": "e2aa3ece-afc8-402f-9913-b62b6baad98c"
      },
      "source": [
        "print (\"Current temperature is: {:.2f} deg C\" .format(temp_city))\n",
        "print (\"Current weather desc :\",weather_desc)\n",
        "print (\"Current Humidity    :\",hmdt, '%')\n",
        "print (\"Current wind speed  :\",wind_spd ,'kmph')"
      ],
      "execution_count": null,
      "outputs": [
        {
          "output_type": "stream",
          "text": [
            "Current temperature is: 30.04 deg C\n",
            "Current weather desc : overcast clouds\n",
            "Current Humidity    : 78 %\n",
            "Current wind speed  : 2.54 kmph\n"
          ],
          "name": "stdout"
        }
      ]
    }
  ]
}